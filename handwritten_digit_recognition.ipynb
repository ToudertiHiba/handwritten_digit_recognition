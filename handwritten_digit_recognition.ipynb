{
  "cells": [
    {
      "cell_type": "code",
      "execution_count": 4,
      "metadata": {
        "id": "Bq5U7Uv2bVUu"
      },
      "outputs": [],
      "source": [
        "# Importing necessary libraries\n",
        "from keras.datasets import mnist\n",
        "from keras.models import Sequential\n",
        "from keras.layers import Dense, Dropout, Flatten\n",
        "from keras.layers import Conv2D, MaxPooling2D\n",
        "from keras.callbacks import EarlyStopping\n",
        "from tensorflow.keras.utils import to_categorical\n",
        "from sklearn.metrics import classification_report, confusion_matrix"
      ]
    },
    {
      "cell_type": "code",
      "execution_count": 5,
      "metadata": {
        "colab": {
          "base_uri": "https://localhost:8080/"
        },
        "id": "Z5HrUgcFZXVJ",
        "outputId": "7b228700-289d-47f5-f261-681c42fd3be3"
      },
      "outputs": [
        {
          "output_type": "stream",
          "name": "stdout",
          "text": [
            "Downloading data from https://storage.googleapis.com/tensorflow/tf-keras-datasets/mnist.npz\n",
            "11490434/11490434 [==============================] - 0s 0us/step\n"
          ]
        }
      ],
      "source": [
        "# Loading the MNIST dataset\n",
        "(x_train, y_train), (x_test, y_test) = mnist.load_data()"
      ]
    },
    {
      "cell_type": "code",
      "execution_count": 6,
      "metadata": {
        "id": "mRxXFfQpZymW"
      },
      "outputs": [],
      "source": [
        "# Reshaping the data to match the input shape expected by the model\n",
        "x_train = x_train.reshape(x_train.shape[0], 28, 28, 1)\n",
        "x_test = x_test.reshape(x_test.shape[0], 28, 28, 1)\n",
        "input_shape = (28, 28, 1)"
      ]
    },
    {
      "cell_type": "code",
      "execution_count": 7,
      "metadata": {
        "id": "r8qCcIgTeoKZ"
      },
      "outputs": [],
      "source": [
        "# Setting some hyperparameters\n",
        "batch_size = 128\n",
        "num_classes = 10\n",
        "epochs = 10"
      ]
    },
    {
      "cell_type": "code",
      "execution_count": 8,
      "metadata": {
        "id": "UJuHZGw2GNb7"
      },
      "outputs": [],
      "source": [
        "# Converting labels to categorical (one-hot encoding)\n",
        "y_train = to_categorical(y_train, num_classes)\n",
        "y_test = to_categorical(y_test, num_classes)"
      ]
    },
    {
      "cell_type": "code",
      "execution_count": 9,
      "metadata": {
        "colab": {
          "base_uri": "https://localhost:8080/"
        },
        "id": "-PQSOnFwbgkL",
        "outputId": "84df48fb-a738-46d1-9a6e-a53a40236e7b"
      },
      "outputs": [
        {
          "output_type": "stream",
          "name": "stdout",
          "text": [
            "x_train shape: (60000, 28, 28, 1)\n",
            "60000 train samples\n",
            "10000 test samples\n"
          ]
        }
      ],
      "source": [
        "# Normalizing pixel values to be between 0 and 1\n",
        "x_train = x_train.astype('float32')\n",
        "x_test = x_test.astype('float32')\n",
        "x_train /= 255\n",
        "x_test /= 255\n",
        "print('x_train shape:', x_train.shape)\n",
        "print(x_train.shape[0], 'train samples')\n",
        "print(x_test.shape[0], 'test samples')"
      ]
    },
    {
      "cell_type": "code",
      "execution_count": 10,
      "metadata": {
        "id": "Ppdb9s0RaCeG"
      },
      "outputs": [],
      "source": [
        "# Creating the neural network model\n",
        "model = Sequential()\n",
        "model.add(Conv2D(32, kernel_size=(3, 3), activation='relu', input_shape=input_shape))\n",
        "model.add(Conv2D(64, (3, 3), activation='relu'))\n",
        "model.add(MaxPooling2D(pool_size=(2, 2)))\n",
        "model.add(Dropout(0.25))\n",
        "model.add(Flatten())\n",
        "model.add(Dense(256, activation='relu'))\n",
        "model.add(Dropout(0.5))\n",
        "model.add(Dense(num_classes, activation='softmax'))\n",
        "\n",
        "# Compiling the model\n",
        "model.compile(optimizer='adadelta', loss='categorical_crossentropy', metrics=['accuracy'])\n",
        "\n",
        "# Adding early stopping for model training\n",
        "early_stopping = EarlyStopping(monitor='val_loss', patience=3)"
      ]
    },
    {
      "cell_type": "code",
      "execution_count": 11,
      "metadata": {
        "colab": {
          "base_uri": "https://localhost:8080/"
        },
        "id": "ZEsmu_kQblN6",
        "outputId": "0f4930d1-dd16-479f-aec4-0e4397aed035"
      },
      "outputs": [
        {
          "output_type": "stream",
          "name": "stdout",
          "text": [
            "Epoch 1/10\n",
            "469/469 [==============================] - 182s 386ms/step - loss: 2.2677 - accuracy: 0.1962 - val_loss: 2.2255 - val_accuracy: 0.5323\n",
            "Epoch 2/10\n",
            "469/469 [==============================] - 170s 363ms/step - loss: 2.1956 - accuracy: 0.3575 - val_loss: 2.1314 - val_accuracy: 0.6715\n",
            "Epoch 3/10\n",
            "469/469 [==============================] - 169s 361ms/step - loss: 2.0953 - accuracy: 0.4748 - val_loss: 2.0019 - val_accuracy: 0.7327\n",
            "Epoch 4/10\n",
            "469/469 [==============================] - 169s 360ms/step - loss: 1.9551 - accuracy: 0.5609 - val_loss: 1.8196 - val_accuracy: 0.7686\n",
            "Epoch 5/10\n",
            "469/469 [==============================] - 172s 367ms/step - loss: 1.7662 - accuracy: 0.6187 - val_loss: 1.5811 - val_accuracy: 0.7912\n",
            "Epoch 6/10\n",
            "469/469 [==============================] - 172s 366ms/step - loss: 1.5389 - accuracy: 0.6583 - val_loss: 1.3154 - val_accuracy: 0.8052\n",
            "Epoch 7/10\n",
            "469/469 [==============================] - 175s 372ms/step - loss: 1.3158 - accuracy: 0.6879 - val_loss: 1.0742 - val_accuracy: 0.8166\n",
            "Epoch 8/10\n",
            "469/469 [==============================] - 175s 374ms/step - loss: 1.1285 - accuracy: 0.7093 - val_loss: 0.8888 - val_accuracy: 0.8303\n",
            "Epoch 9/10\n",
            "469/469 [==============================] - 169s 361ms/step - loss: 0.9935 - accuracy: 0.7300 - val_loss: 0.7595 - val_accuracy: 0.8407\n",
            "Epoch 10/10\n",
            "469/469 [==============================] - 173s 369ms/step - loss: 0.8945 - accuracy: 0.7466 - val_loss: 0.6699 - val_accuracy: 0.8509\n",
            "Saving the model as mnist.h5\n"
          ]
        },
        {
          "output_type": "stream",
          "name": "stderr",
          "text": [
            "/usr/local/lib/python3.10/dist-packages/keras/src/engine/training.py:3079: UserWarning: You are saving your model as an HDF5 file via `model.save()`. This file format is considered legacy. We recommend using instead the native Keras format, e.g. `model.save('my_model.keras')`.\n",
            "  saving_api.save_model(\n"
          ]
        }
      ],
      "source": [
        "# Training the model\n",
        "hist = model.fit(x_train, y_train, batch_size=batch_size, epochs=epochs, verbose=1, validation_data=(x_test, y_test), callbacks=[early_stopping])\n",
        "\n",
        "# Saving the trained model\n",
        "model.save('mnist.h5')\n",
        "print(\"Saving the model as mnist.h5\")"
      ]
    },
    {
      "cell_type": "code",
      "execution_count": 12,
      "metadata": {
        "id": "qmC1hmY2brPc",
        "colab": {
          "base_uri": "https://localhost:8080/"
        },
        "outputId": "44741546-d7dd-42ff-9051-1aeacec20195"
      },
      "outputs": [
        {
          "output_type": "stream",
          "name": "stdout",
          "text": [
            "Test loss: 0.6699315905570984\n",
            "Test accuracy: 0.8508999943733215\n"
          ]
        }
      ],
      "source": [
        "# Evaluating the model on the test data\n",
        "score = model.evaluate(x_test, y_test, verbose=0)\n",
        "print('Test loss:', score[0])\n",
        "print('Test accuracy:', score[1])"
      ]
    },
    {
      "cell_type": "code",
      "source": [
        "import numpy as np\n",
        "y_pred = model.predict(x_test)\n",
        "y_pred_classes = np.argmax(y_pred, axis=1)\n",
        "y_true = np.argmax(y_test, axis=1)\n",
        "\n",
        "# Classification Report\n",
        "print(\"Classification Report:\")\n",
        "print(classification_report(y_true, y_pred_classes))\n",
        "\n",
        "# Confusion Matrix\n",
        "confusion_mtx = confusion_matrix(y_true, y_pred_classes)\n",
        "print(\"Confusion Matrix:\")\n",
        "print(confusion_mtx)"
      ],
      "metadata": {
        "colab": {
          "base_uri": "https://localhost:8080/"
        },
        "id": "CsXDLC9Y1fG_",
        "outputId": "7873958c-8744-482a-88fc-0506d34cacd5"
      },
      "execution_count": 14,
      "outputs": [
        {
          "output_type": "stream",
          "name": "stdout",
          "text": [
            "313/313 [==============================] - 14s 46ms/step\n",
            "Classification Report:\n",
            "              precision    recall  f1-score   support\n",
            "\n",
            "           0       0.89      0.95      0.92       980\n",
            "           1       0.88      0.96      0.91      1135\n",
            "           2       0.89      0.85      0.87      1032\n",
            "           3       0.80      0.89      0.84      1010\n",
            "           4       0.83      0.80      0.82       982\n",
            "           5       0.92      0.64      0.76       892\n",
            "           6       0.86      0.91      0.89       958\n",
            "           7       0.91      0.85      0.88      1028\n",
            "           8       0.80      0.79      0.80       974\n",
            "           9       0.76      0.84      0.80      1009\n",
            "\n",
            "    accuracy                           0.85     10000\n",
            "   macro avg       0.85      0.85      0.85     10000\n",
            "weighted avg       0.85      0.85      0.85     10000\n",
            "\n",
            "Confusion Matrix:\n",
            "[[ 934    0    1    3    0    2   21    1   18    0]\n",
            " [   0 1087   19   10    1    1    5    0    9    3]\n",
            " [  17    9  873   13   17    1   33   21   46    2]\n",
            " [   4    7   30  894    0   15    4   15   23   18]\n",
            " [   1    8    2    0  789    0   28    1    7  146]\n",
            " [  37   15    9  129   36  572   22    7   53   12]\n",
            " [  19   20   11    0   14   16  871    0    7    0]\n",
            " [   3   38   23    4   17    0    1  875    7   60]\n",
            " [  12   40   12   59   11   13   17   20  768   22]\n",
            " [  20   18    6   12   63    2    5   20   17  846]]\n"
          ]
        }
      ]
    }
  ],
  "metadata": {
    "colab": {
      "provenance": []
    },
    "kernelspec": {
      "display_name": "Python 3",
      "name": "python3"
    },
    "language_info": {
      "name": "python"
    }
  },
  "nbformat": 4,
  "nbformat_minor": 0
}